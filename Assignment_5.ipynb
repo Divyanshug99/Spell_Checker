{
 "cells": [
  {
   "cell_type": "code",
   "execution_count": 1,
   "metadata": {},
   "outputs": [],
   "source": [
    "import numpy as np\n",
    "import pandas as pd\n",
    "import matplotlib.pyplot as plt"
   ]
  },
  {
   "cell_type": "code",
   "execution_count": 2,
   "metadata": {},
   "outputs": [
    {
     "name": "stderr",
     "output_type": "stream",
     "text": [
      "C:\\Users\\1\\Anaconda3\\lib\\site-packages\\IPython\\core\\interactiveshell.py:2785: DtypeWarning: Columns (7) have mixed types. Specify dtype option on import or set low_memory=False.\n",
      "  interactivity=interactivity, compiler=compiler, result=result)\n"
     ]
    }
   ],
   "source": [
    "df=pd.read_csv(\"assign/data.csv\")"
   ]
  },
  {
   "cell_type": "code",
   "execution_count": 3,
   "metadata": {},
   "outputs": [
    {
     "data": {
      "text/plain": [
       "Index(['report_date', 'location', 'location_type', 'data_field',\n",
       "       'data_field_code', 'time_period', 'time_period_type', 'value', 'unit'],\n",
       "      dtype='object')"
      ]
     },
     "execution_count": 3,
     "metadata": {},
     "output_type": "execute_result"
    }
   ],
   "source": [
    "df.columns"
   ]
  },
  {
   "cell_type": "code",
   "execution_count": 4,
   "metadata": {},
   "outputs": [
    {
     "data": {
      "text/plain": [
       "report_date          object\n",
       "location             object\n",
       "location_type        object\n",
       "data_field           object\n",
       "data_field_code      object\n",
       "time_period         float64\n",
       "time_period_type    float64\n",
       "value                object\n",
       "unit                 object\n",
       "dtype: object"
      ]
     },
     "execution_count": 4,
     "metadata": {},
     "output_type": "execute_result"
    }
   ],
   "source": [
    "df.dtypes"
   ]
  },
  {
   "cell_type": "code",
   "execution_count": 5,
   "metadata": {},
   "outputs": [
    {
     "data": {
      "text/html": [
       "<div>\n",
       "<style scoped>\n",
       "    .dataframe tbody tr th:only-of-type {\n",
       "        vertical-align: middle;\n",
       "    }\n",
       "\n",
       "    .dataframe tbody tr th {\n",
       "        vertical-align: top;\n",
       "    }\n",
       "\n",
       "    .dataframe thead th {\n",
       "        text-align: right;\n",
       "    }\n",
       "</style>\n",
       "<table border=\"1\" class=\"dataframe\">\n",
       "  <thead>\n",
       "    <tr style=\"text-align: right;\">\n",
       "      <th></th>\n",
       "      <th>report_date</th>\n",
       "      <th>location</th>\n",
       "      <th>location_type</th>\n",
       "      <th>data_field</th>\n",
       "      <th>data_field_code</th>\n",
       "      <th>time_period</th>\n",
       "      <th>time_period_type</th>\n",
       "      <th>value</th>\n",
       "      <th>unit</th>\n",
       "    </tr>\n",
       "  </thead>\n",
       "  <tbody>\n",
       "    <tr>\n",
       "      <th>0</th>\n",
       "      <td>2016-03-19</td>\n",
       "      <td>Argentina-Buenos_Aires</td>\n",
       "      <td>province</td>\n",
       "      <td>cumulative_confirmed_local_cases</td>\n",
       "      <td>AR0001</td>\n",
       "      <td>NaN</td>\n",
       "      <td>NaN</td>\n",
       "      <td>0</td>\n",
       "      <td>cases</td>\n",
       "    </tr>\n",
       "    <tr>\n",
       "      <th>1</th>\n",
       "      <td>2016-03-19</td>\n",
       "      <td>Argentina-Buenos_Aires</td>\n",
       "      <td>province</td>\n",
       "      <td>cumulative_probable_local_cases</td>\n",
       "      <td>AR0002</td>\n",
       "      <td>NaN</td>\n",
       "      <td>NaN</td>\n",
       "      <td>0</td>\n",
       "      <td>cases</td>\n",
       "    </tr>\n",
       "    <tr>\n",
       "      <th>2</th>\n",
       "      <td>2016-03-19</td>\n",
       "      <td>Argentina-Buenos_Aires</td>\n",
       "      <td>province</td>\n",
       "      <td>cumulative_confirmed_imported_cases</td>\n",
       "      <td>AR0003</td>\n",
       "      <td>NaN</td>\n",
       "      <td>NaN</td>\n",
       "      <td>2</td>\n",
       "      <td>cases</td>\n",
       "    </tr>\n",
       "  </tbody>\n",
       "</table>\n",
       "</div>"
      ],
      "text/plain": [
       "  report_date                location location_type  \\\n",
       "0  2016-03-19  Argentina-Buenos_Aires      province   \n",
       "1  2016-03-19  Argentina-Buenos_Aires      province   \n",
       "2  2016-03-19  Argentina-Buenos_Aires      province   \n",
       "\n",
       "                            data_field data_field_code  time_period  \\\n",
       "0     cumulative_confirmed_local_cases          AR0001          NaN   \n",
       "1      cumulative_probable_local_cases          AR0002          NaN   \n",
       "2  cumulative_confirmed_imported_cases          AR0003          NaN   \n",
       "\n",
       "   time_period_type value   unit  \n",
       "0               NaN     0  cases  \n",
       "1               NaN     0  cases  \n",
       "2               NaN     2  cases  "
      ]
     },
     "execution_count": 5,
     "metadata": {},
     "output_type": "execute_result"
    }
   ],
   "source": [
    "df.head(3)"
   ]
  },
  {
   "cell_type": "code",
   "execution_count": 6,
   "metadata": {},
   "outputs": [
    {
     "data": {
      "text/plain": [
       "array([nan])"
      ]
     },
     "execution_count": 6,
     "metadata": {},
     "output_type": "execute_result"
    }
   ],
   "source": [
    "df.time_period.unique()"
   ]
  },
  {
   "cell_type": "code",
   "execution_count": 7,
   "metadata": {},
   "outputs": [
    {
     "data": {
      "text/plain": [
       "array([nan])"
      ]
     },
     "execution_count": 7,
     "metadata": {},
     "output_type": "execute_result"
    }
   ],
   "source": [
    "df.time_period.unique()"
   ]
  },
  {
   "cell_type": "code",
   "execution_count": 8,
   "metadata": {},
   "outputs": [],
   "source": [
    "df.drop(['time_period','time_period_type'],axis=1,inplace=True)"
   ]
  },
  {
   "cell_type": "markdown",
   "metadata": {},
   "source": [
    "# Q1. Show data field code 'AR0005' values for 'Argentina-Catamarca' for entire duration"
   ]
  },
  {
   "cell_type": "code",
   "execution_count": 9,
   "metadata": {},
   "outputs": [
    {
     "data": {
      "text/html": [
       "<div>\n",
       "<style scoped>\n",
       "    .dataframe tbody tr th:only-of-type {\n",
       "        vertical-align: middle;\n",
       "    }\n",
       "\n",
       "    .dataframe tbody tr th {\n",
       "        vertical-align: top;\n",
       "    }\n",
       "\n",
       "    .dataframe thead th {\n",
       "        text-align: right;\n",
       "    }\n",
       "</style>\n",
       "<table border=\"1\" class=\"dataframe\">\n",
       "  <thead>\n",
       "    <tr style=\"text-align: right;\">\n",
       "      <th></th>\n",
       "      <th>report_date</th>\n",
       "      <th>value</th>\n",
       "    </tr>\n",
       "  </thead>\n",
       "  <tbody>\n",
       "    <tr>\n",
       "      <th>16</th>\n",
       "      <td>2016-03-19</td>\n",
       "      <td>14</td>\n",
       "    </tr>\n",
       "    <tr>\n",
       "      <th>160</th>\n",
       "      <td>2016-03-26</td>\n",
       "      <td>15</td>\n",
       "    </tr>\n",
       "    <tr>\n",
       "      <th>304</th>\n",
       "      <td>2016-04-02</td>\n",
       "      <td>15</td>\n",
       "    </tr>\n",
       "    <tr>\n",
       "      <th>448</th>\n",
       "      <td>2016-04-09</td>\n",
       "      <td>15</td>\n",
       "    </tr>\n",
       "    <tr>\n",
       "      <th>592</th>\n",
       "      <td>2016-04-16</td>\n",
       "      <td>15</td>\n",
       "    </tr>\n",
       "    <tr>\n",
       "      <th>736</th>\n",
       "      <td>2016-04-29</td>\n",
       "      <td>15</td>\n",
       "    </tr>\n",
       "    <tr>\n",
       "      <th>880</th>\n",
       "      <td>2016-05-07</td>\n",
       "      <td>16</td>\n",
       "    </tr>\n",
       "    <tr>\n",
       "      <th>1024</th>\n",
       "      <td>2016-05-14</td>\n",
       "      <td>15</td>\n",
       "    </tr>\n",
       "    <tr>\n",
       "      <th>1168</th>\n",
       "      <td>2016-05-22</td>\n",
       "      <td>16</td>\n",
       "    </tr>\n",
       "    <tr>\n",
       "      <th>1312</th>\n",
       "      <td>2016-05-30</td>\n",
       "      <td>15</td>\n",
       "    </tr>\n",
       "    <tr>\n",
       "      <th>1456</th>\n",
       "      <td>2016-06-06</td>\n",
       "      <td>15</td>\n",
       "    </tr>\n",
       "    <tr>\n",
       "      <th>1600</th>\n",
       "      <td>2016-06-13</td>\n",
       "      <td>15</td>\n",
       "    </tr>\n",
       "    <tr>\n",
       "      <th>1744</th>\n",
       "      <td>2016-06-18</td>\n",
       "      <td>15</td>\n",
       "    </tr>\n",
       "    <tr>\n",
       "      <th>1888</th>\n",
       "      <td>2016-06-26</td>\n",
       "      <td>16</td>\n",
       "    </tr>\n",
       "  </tbody>\n",
       "</table>\n",
       "</div>"
      ],
      "text/plain": [
       "     report_date value\n",
       "16    2016-03-19    14\n",
       "160   2016-03-26    15\n",
       "304   2016-04-02    15\n",
       "448   2016-04-09    15\n",
       "592   2016-04-16    15\n",
       "736   2016-04-29    15\n",
       "880   2016-05-07    16\n",
       "1024  2016-05-14    15\n",
       "1168  2016-05-22    16\n",
       "1312  2016-05-30    15\n",
       "1456  2016-06-06    15\n",
       "1600  2016-06-13    15\n",
       "1744  2016-06-18    15\n",
       "1888  2016-06-26    16"
      ]
     },
     "execution_count": 9,
     "metadata": {},
     "output_type": "execute_result"
    }
   ],
   "source": [
    "df.query(\"location=='Argentina-Catamarca' & data_field_code=='AR0005'\")[['report_date','value']]"
   ]
  },
  {
   "cell_type": "markdown",
   "metadata": {},
   "source": [
    "# Q2. Plot 'Argentina-CABA' and 'Argentina-Catamarca' for number of cases values for entire duration to identify the difference"
   ]
  },
  {
   "cell_type": "code",
   "execution_count": 10,
   "metadata": {},
   "outputs": [
    {
     "data": {
      "text/html": [
       "<div>\n",
       "<style scoped>\n",
       "    .dataframe tbody tr th:only-of-type {\n",
       "        vertical-align: middle;\n",
       "    }\n",
       "\n",
       "    .dataframe tbody tr th {\n",
       "        vertical-align: top;\n",
       "    }\n",
       "\n",
       "    .dataframe thead th {\n",
       "        text-align: right;\n",
       "    }\n",
       "</style>\n",
       "<table border=\"1\" class=\"dataframe\">\n",
       "  <thead>\n",
       "    <tr style=\"text-align: right;\">\n",
       "      <th></th>\n",
       "      <th>report_date</th>\n",
       "      <th>location</th>\n",
       "      <th>location_type</th>\n",
       "      <th>data_field</th>\n",
       "      <th>data_field_code</th>\n",
       "      <th>value</th>\n",
       "      <th>unit</th>\n",
       "    </tr>\n",
       "  </thead>\n",
       "  <tbody>\n",
       "    <tr>\n",
       "      <th>0</th>\n",
       "      <td>2016-03-19</td>\n",
       "      <td>Argentina-Buenos_Aires</td>\n",
       "      <td>province</td>\n",
       "      <td>cumulative_confirmed_local_cases</td>\n",
       "      <td>AR0001</td>\n",
       "      <td>0</td>\n",
       "      <td>cases</td>\n",
       "    </tr>\n",
       "    <tr>\n",
       "      <th>1</th>\n",
       "      <td>2016-03-19</td>\n",
       "      <td>Argentina-Buenos_Aires</td>\n",
       "      <td>province</td>\n",
       "      <td>cumulative_probable_local_cases</td>\n",
       "      <td>AR0002</td>\n",
       "      <td>0</td>\n",
       "      <td>cases</td>\n",
       "    </tr>\n",
       "    <tr>\n",
       "      <th>2</th>\n",
       "      <td>2016-03-19</td>\n",
       "      <td>Argentina-Buenos_Aires</td>\n",
       "      <td>province</td>\n",
       "      <td>cumulative_confirmed_imported_cases</td>\n",
       "      <td>AR0003</td>\n",
       "      <td>2</td>\n",
       "      <td>cases</td>\n",
       "    </tr>\n",
       "    <tr>\n",
       "      <th>3</th>\n",
       "      <td>2016-03-19</td>\n",
       "      <td>Argentina-Buenos_Aires</td>\n",
       "      <td>province</td>\n",
       "      <td>cumulative_probable_imported_cases</td>\n",
       "      <td>AR0004</td>\n",
       "      <td>1</td>\n",
       "      <td>cases</td>\n",
       "    </tr>\n",
       "    <tr>\n",
       "      <th>4</th>\n",
       "      <td>2016-03-19</td>\n",
       "      <td>Argentina-Buenos_Aires</td>\n",
       "      <td>province</td>\n",
       "      <td>cumulative_cases_under_study</td>\n",
       "      <td>AR0005</td>\n",
       "      <td>127</td>\n",
       "      <td>cases</td>\n",
       "    </tr>\n",
       "    <tr>\n",
       "      <th>5</th>\n",
       "      <td>2016-03-19</td>\n",
       "      <td>Argentina-Buenos_Aires</td>\n",
       "      <td>province</td>\n",
       "      <td>cumulative_cases_discarded</td>\n",
       "      <td>AR0006</td>\n",
       "      <td>0</td>\n",
       "      <td>cases</td>\n",
       "    </tr>\n",
       "    <tr>\n",
       "      <th>6</th>\n",
       "      <td>2016-03-19</td>\n",
       "      <td>Argentina-CABA</td>\n",
       "      <td>province</td>\n",
       "      <td>cumulative_confirmed_local_cases</td>\n",
       "      <td>AR0001</td>\n",
       "      <td>0</td>\n",
       "      <td>cases</td>\n",
       "    </tr>\n",
       "    <tr>\n",
       "      <th>7</th>\n",
       "      <td>2016-03-19</td>\n",
       "      <td>Argentina-CABA</td>\n",
       "      <td>province</td>\n",
       "      <td>cumulative_probable_local_cases</td>\n",
       "      <td>AR0002</td>\n",
       "      <td>0</td>\n",
       "      <td>cases</td>\n",
       "    </tr>\n",
       "    <tr>\n",
       "      <th>8</th>\n",
       "      <td>2016-03-19</td>\n",
       "      <td>Argentina-CABA</td>\n",
       "      <td>province</td>\n",
       "      <td>cumulative_confirmed_imported_cases</td>\n",
       "      <td>AR0003</td>\n",
       "      <td>9</td>\n",
       "      <td>cases</td>\n",
       "    </tr>\n",
       "    <tr>\n",
       "      <th>9</th>\n",
       "      <td>2016-03-19</td>\n",
       "      <td>Argentina-CABA</td>\n",
       "      <td>province</td>\n",
       "      <td>cumulative_probable_imported_cases</td>\n",
       "      <td>AR0004</td>\n",
       "      <td>0</td>\n",
       "      <td>cases</td>\n",
       "    </tr>\n",
       "    <tr>\n",
       "      <th>10</th>\n",
       "      <td>2016-03-19</td>\n",
       "      <td>Argentina-CABA</td>\n",
       "      <td>province</td>\n",
       "      <td>cumulative_cases_under_study</td>\n",
       "      <td>AR0005</td>\n",
       "      <td>68</td>\n",
       "      <td>cases</td>\n",
       "    </tr>\n",
       "    <tr>\n",
       "      <th>11</th>\n",
       "      <td>2016-03-19</td>\n",
       "      <td>Argentina-CABA</td>\n",
       "      <td>province</td>\n",
       "      <td>cumulative_cases_discarded</td>\n",
       "      <td>AR0006</td>\n",
       "      <td>1</td>\n",
       "      <td>cases</td>\n",
       "    </tr>\n",
       "    <tr>\n",
       "      <th>12</th>\n",
       "      <td>2016-03-19</td>\n",
       "      <td>Argentina-Catamarca</td>\n",
       "      <td>province</td>\n",
       "      <td>cumulative_confirmed_local_cases</td>\n",
       "      <td>AR0001</td>\n",
       "      <td>0</td>\n",
       "      <td>cases</td>\n",
       "    </tr>\n",
       "    <tr>\n",
       "      <th>13</th>\n",
       "      <td>2016-03-19</td>\n",
       "      <td>Argentina-Catamarca</td>\n",
       "      <td>province</td>\n",
       "      <td>cumulative_probable_local_cases</td>\n",
       "      <td>AR0002</td>\n",
       "      <td>0</td>\n",
       "      <td>cases</td>\n",
       "    </tr>\n",
       "    <tr>\n",
       "      <th>14</th>\n",
       "      <td>2016-03-19</td>\n",
       "      <td>Argentina-Catamarca</td>\n",
       "      <td>province</td>\n",
       "      <td>cumulative_confirmed_imported_cases</td>\n",
       "      <td>AR0003</td>\n",
       "      <td>0</td>\n",
       "      <td>cases</td>\n",
       "    </tr>\n",
       "  </tbody>\n",
       "</table>\n",
       "</div>"
      ],
      "text/plain": [
       "   report_date                location location_type  \\\n",
       "0   2016-03-19  Argentina-Buenos_Aires      province   \n",
       "1   2016-03-19  Argentina-Buenos_Aires      province   \n",
       "2   2016-03-19  Argentina-Buenos_Aires      province   \n",
       "3   2016-03-19  Argentina-Buenos_Aires      province   \n",
       "4   2016-03-19  Argentina-Buenos_Aires      province   \n",
       "5   2016-03-19  Argentina-Buenos_Aires      province   \n",
       "6   2016-03-19          Argentina-CABA      province   \n",
       "7   2016-03-19          Argentina-CABA      province   \n",
       "8   2016-03-19          Argentina-CABA      province   \n",
       "9   2016-03-19          Argentina-CABA      province   \n",
       "10  2016-03-19          Argentina-CABA      province   \n",
       "11  2016-03-19          Argentina-CABA      province   \n",
       "12  2016-03-19     Argentina-Catamarca      province   \n",
       "13  2016-03-19     Argentina-Catamarca      province   \n",
       "14  2016-03-19     Argentina-Catamarca      province   \n",
       "\n",
       "                             data_field data_field_code value   unit  \n",
       "0      cumulative_confirmed_local_cases          AR0001     0  cases  \n",
       "1       cumulative_probable_local_cases          AR0002     0  cases  \n",
       "2   cumulative_confirmed_imported_cases          AR0003     2  cases  \n",
       "3    cumulative_probable_imported_cases          AR0004     1  cases  \n",
       "4          cumulative_cases_under_study          AR0005   127  cases  \n",
       "5            cumulative_cases_discarded          AR0006     0  cases  \n",
       "6      cumulative_confirmed_local_cases          AR0001     0  cases  \n",
       "7       cumulative_probable_local_cases          AR0002     0  cases  \n",
       "8   cumulative_confirmed_imported_cases          AR0003     9  cases  \n",
       "9    cumulative_probable_imported_cases          AR0004     0  cases  \n",
       "10         cumulative_cases_under_study          AR0005    68  cases  \n",
       "11           cumulative_cases_discarded          AR0006     1  cases  \n",
       "12     cumulative_confirmed_local_cases          AR0001     0  cases  \n",
       "13      cumulative_probable_local_cases          AR0002     0  cases  \n",
       "14  cumulative_confirmed_imported_cases          AR0003     0  cases  "
      ]
     },
     "execution_count": 10,
     "metadata": {},
     "output_type": "execute_result"
    }
   ],
   "source": [
    "df.head(15)"
   ]
  },
  {
   "cell_type": "code",
   "execution_count": 11,
   "metadata": {},
   "outputs": [
    {
     "data": {
      "text/plain": [
       "{'2016-03-19': Int64Index([12, 13, 14, 15, 16, 17], dtype='int64'),\n",
       " '2016-03-26': Int64Index([156, 157, 158, 159, 160, 161], dtype='int64'),\n",
       " '2016-04-02': Int64Index([300, 301, 302, 303, 304, 305], dtype='int64'),\n",
       " '2016-04-09': Int64Index([444, 445, 446, 447, 448, 449], dtype='int64'),\n",
       " '2016-04-16': Int64Index([588, 589, 590, 591, 592, 593], dtype='int64'),\n",
       " '2016-04-29': Int64Index([732, 733, 734, 735, 736, 737], dtype='int64'),\n",
       " '2016-05-07': Int64Index([876, 877, 878, 879, 880, 881], dtype='int64'),\n",
       " '2016-05-14': Int64Index([1020, 1021, 1022, 1023, 1024, 1025], dtype='int64'),\n",
       " '2016-05-22': Int64Index([1164, 1165, 1166, 1167, 1168, 1169], dtype='int64'),\n",
       " '2016-05-30': Int64Index([1308, 1309, 1310, 1311, 1312, 1313], dtype='int64'),\n",
       " '2016-06-06': Int64Index([1452, 1453, 1454, 1455, 1456, 1457], dtype='int64'),\n",
       " '2016-06-13': Int64Index([1596, 1597, 1598, 1599, 1600, 1601], dtype='int64'),\n",
       " '2016-06-18': Int64Index([1740, 1741, 1742, 1743, 1744, 1745], dtype='int64'),\n",
       " '2016-06-26': Int64Index([1884, 1885, 1886, 1887, 1888, 1889], dtype='int64')}"
      ]
     },
     "execution_count": 11,
     "metadata": {},
     "output_type": "execute_result"
    }
   ],
   "source": [
    "df.query(\"unit=='cases' & location=='Argentina-Catamarca'\").groupby('report_date').groups"
   ]
  },
  {
   "cell_type": "code",
   "execution_count": 12,
   "metadata": {},
   "outputs": [],
   "source": [
    "dic_rd1=df.query(\"unit=='cases' & location=='Argentina-Catamarca'\").groupby('report_date').groups"
   ]
  },
  {
   "cell_type": "code",
   "execution_count": 13,
   "metadata": {},
   "outputs": [],
   "source": [
    "for i in dic_rd1:\n",
    "    s=0\n",
    "    for j in dic_rd1[i]:\n",
    "        s+=int(df.loc[j][\"value\"])\n",
    "    dic_rd1[i]=s"
   ]
  },
  {
   "cell_type": "code",
   "execution_count": 14,
   "metadata": {},
   "outputs": [
    {
     "data": {
      "text/plain": [
       "{'2016-03-19': 14,\n",
       " '2016-03-26': 15,\n",
       " '2016-04-02': 15,\n",
       " '2016-04-09': 15,\n",
       " '2016-04-16': 15,\n",
       " '2016-04-29': 15,\n",
       " '2016-05-07': 16,\n",
       " '2016-05-14': 15,\n",
       " '2016-05-22': 16,\n",
       " '2016-05-30': 15,\n",
       " '2016-06-06': 15,\n",
       " '2016-06-13': 15,\n",
       " '2016-06-18': 15,\n",
       " '2016-06-26': 16}"
      ]
     },
     "execution_count": 14,
     "metadata": {},
     "output_type": "execute_result"
    }
   ],
   "source": [
    "dic_rd1"
   ]
  },
  {
   "cell_type": "code",
   "execution_count": 15,
   "metadata": {},
   "outputs": [],
   "source": [
    "dic_rd2=df.query(\"unit=='cases' & location=='Argentina-CABA'\").groupby('report_date').groups"
   ]
  },
  {
   "cell_type": "code",
   "execution_count": 16,
   "metadata": {},
   "outputs": [],
   "source": [
    "for i in dic_rd2:\n",
    "    s=0\n",
    "    for j in dic_rd2[i]:\n",
    "        s+=int(df.loc[j][\"value\"])\n",
    "    dic_rd2[i]=s"
   ]
  },
  {
   "cell_type": "code",
   "execution_count": 17,
   "metadata": {},
   "outputs": [
    {
     "data": {
      "text/plain": [
       "{'2016-03-19': 78,\n",
       " '2016-03-26': 92,\n",
       " '2016-04-02': 94,\n",
       " '2016-04-09': 97,\n",
       " '2016-04-16': 98,\n",
       " '2016-04-29': 101,\n",
       " '2016-05-07': 255,\n",
       " '2016-05-14': 126,\n",
       " '2016-05-22': 260,\n",
       " '2016-05-30': 132,\n",
       " '2016-06-06': 134,\n",
       " '2016-06-13': 136,\n",
       " '2016-06-18': 136,\n",
       " '2016-06-26': 160}"
      ]
     },
     "execution_count": 17,
     "metadata": {},
     "output_type": "execute_result"
    }
   ],
   "source": [
    "dic_rd2"
   ]
  },
  {
   "cell_type": "code",
   "execution_count": 18,
   "metadata": {},
   "outputs": [
    {
     "data": {
      "text/plain": [
       "[('2016-03-19', 78),\n",
       " ('2016-03-26', 92),\n",
       " ('2016-04-02', 94),\n",
       " ('2016-04-09', 97),\n",
       " ('2016-04-16', 98),\n",
       " ('2016-04-29', 101),\n",
       " ('2016-05-07', 255),\n",
       " ('2016-05-14', 126),\n",
       " ('2016-05-22', 260),\n",
       " ('2016-05-30', 132),\n",
       " ('2016-06-06', 134),\n",
       " ('2016-06-13', 136),\n",
       " ('2016-06-18', 136),\n",
       " ('2016-06-26', 160)]"
      ]
     },
     "execution_count": 18,
     "metadata": {},
     "output_type": "execute_result"
    }
   ],
   "source": [
    "list(zip(dic_rd2.keys(),dic_rd2.values()))"
   ]
  },
  {
   "cell_type": "code",
   "execution_count": 19,
   "metadata": {},
   "outputs": [
    {
     "data": {
      "text/plain": [
       "[('2016-03-19', 14, '2016-03-19', 78),\n",
       " ('2016-03-26', 15, '2016-03-26', 92),\n",
       " ('2016-04-02', 15, '2016-04-02', 94),\n",
       " ('2016-04-09', 15, '2016-04-09', 97),\n",
       " ('2016-04-16', 15, '2016-04-16', 98),\n",
       " ('2016-04-29', 15, '2016-04-29', 101),\n",
       " ('2016-05-07', 16, '2016-05-07', 255),\n",
       " ('2016-05-14', 15, '2016-05-14', 126),\n",
       " ('2016-05-22', 16, '2016-05-22', 260),\n",
       " ('2016-05-30', 15, '2016-05-30', 132),\n",
       " ('2016-06-06', 15, '2016-06-06', 134),\n",
       " ('2016-06-13', 15, '2016-06-13', 136),\n",
       " ('2016-06-18', 15, '2016-06-18', 136),\n",
       " ('2016-06-26', 16, '2016-06-26', 160)]"
      ]
     },
     "execution_count": 19,
     "metadata": {},
     "output_type": "execute_result"
    }
   ],
   "source": [
    "list(zip(dic_rd1.keys(),dic_rd1.values(),dic_rd2.keys(),dic_rd2.values()))"
   ]
  },
  {
   "cell_type": "code",
   "execution_count": 20,
   "metadata": {},
   "outputs": [
    {
     "data": {
      "text/plain": [
       "array([ 64,  77,  79,  82,  83,  86, 239, 111, 244, 117, 119, 121, 121,\n",
       "       144])"
      ]
     },
     "execution_count": 20,
     "metadata": {},
     "output_type": "execute_result"
    }
   ],
   "source": [
    "np.array(list(dic_rd2.values()))-np.array(list(dic_rd1.values()))"
   ]
  },
  {
   "cell_type": "code",
   "execution_count": 21,
   "metadata": {},
   "outputs": [],
   "source": [
    "dif=np.array(list(dic_rd2.values()))-np.array(list(dic_rd1.values()))"
   ]
  },
  {
   "cell_type": "code",
   "execution_count": 22,
   "metadata": {},
   "outputs": [
    {
     "data": {
      "image/png": "[encoded data removed]",
      "text/plain": [
       "<Figure size 432x288 with 1 Axes>"
      ]
     },
     "metadata": {},
     "output_type": "display_data"
    }
   ],
   "source": [
    "# plt.figure(figsize=(10,10))\n",
    "plt.plot(dic_rd1.keys(),dic_rd1.values(),label=\"Argentina-Catamarca\")\n",
    "plt.plot(dic_rd2.keys(),dic_rd2.values(),label=\"Argentina-CABA\")\n",
    "plt.plot(dic_rd1.keys(),dif,label=\"Difference\")\n",
    "plt.legend(loc=(1.1,1))\n",
    "plt.xticks(rotation=90)\n",
    "plt.show()"
   ]
  },
  {
   "cell_type": "code",
   "execution_count": 23,
   "metadata": {},
   "outputs": [
    {
     "data": {
      "image/png": "[encoded data removed]",
      "text/plain": [
       "<Figure size 432x288 with 1 Axes>"
      ]
     },
     "metadata": {},
     "output_type": "display_data"
    }
   ],
   "source": [
    "# plt.figure(figsize=(10,10))\n",
    "plt.bar(dic_rd2.keys(),dic_rd2.values(),label=\"Argentina-CABA\")\n",
    "plt.bar(dic_rd1.keys(),dic_rd1.values(),label=\"Argentina-Catamarca\")\n",
    "plt.legend(loc=(1.1,1))\n",
    "plt.xticks(rotation=90)\n",
    "plt.show()"
   ]
  },
  {
   "cell_type": "markdown",
   "metadata": {},
   "source": [
    "# Q3. Plot how data field values are distributed across the locations 'Argentina-Buenos_Aires', 'Argentina-CABA', 'Argentina-Catamarca'"
   ]
  },
  {
   "cell_type": "code",
   "execution_count": 24,
   "metadata": {},
   "outputs": [
    {
     "data": {
      "text/plain": [
       "1674"
      ]
     },
     "execution_count": 24,
     "metadata": {},
     "output_type": "execute_result"
    }
   ],
   "source": [
    "len(df.location.unique())"
   ]
  },
  {
   "cell_type": "code",
   "execution_count": 25,
   "metadata": {},
   "outputs": [],
   "source": [
    "# 'Argentina-Buenos_Aires', 'Argentina-CABA', 'Argentina-Catamarca'"
   ]
  },
  {
   "cell_type": "code",
   "execution_count": 26,
   "metadata": {},
   "outputs": [],
   "source": [
    "Buenos_df=df.query(\"location=='Argentina-Buenos_Aires'\")\n",
    "CABA_df=df.query(\"location=='Argentina-CABA'\")\n",
    "Catamarca_df=df.query(\"location=='Argentina-Catamarca'\")"
   ]
  },
  {
   "cell_type": "code",
   "execution_count": 27,
   "metadata": {},
   "outputs": [
    {
     "name": "stdout",
     "output_type": "stream",
     "text": [
      "(84, 7) (84, 7) (84, 7)\n"
     ]
    }
   ],
   "source": [
    "print(Buenos_df.shape , CABA_df.shape , Catamarca_df.shape)"
   ]
  },
  {
   "cell_type": "code",
   "execution_count": 28,
   "metadata": {},
   "outputs": [
    {
     "name": "stdout",
     "output_type": "stream",
     "text": [
      "['2016-03-19' '2016-03-26' '2016-04-02' '2016-04-09' '2016-04-16'\n",
      " '2016-04-29' '2016-05-07' '2016-05-14' '2016-05-22' '2016-05-30'\n",
      " '2016-06-06' '2016-06-13' '2016-06-18' '2016-06-26']\n",
      "['Argentina-CABA']\n",
      "['province']\n",
      "['cumulative_confirmed_local_cases' 'cumulative_probable_local_cases'\n",
      " 'cumulative_confirmed_imported_cases'\n",
      " 'cumulative_probable_imported_cases' 'cumulative_cases_under_study'\n",
      " 'cumulative_cases_discarded']\n",
      "['AR0001' 'AR0002' 'AR0003' 'AR0004' 'AR0005' 'AR0006']\n",
      "['0' '9' '68' '1' '81' '2' '83' '86' '87' '90' '8' '245' '115' '250' '121'\n",
      " '123' '125' '149']\n",
      "['cases']\n"
     ]
    }
   ],
   "source": [
    "for i in CABA_df.columns:\n",
    "    print(CABA_df[i].unique())"
   ]
  },
  {
   "cell_type": "code",
   "execution_count": 29,
   "metadata": {},
   "outputs": [],
   "source": [
    "Buenos_dic=Buenos_df.groupby('data_field').groups\n",
    "CABA_dic=CABA_df.groupby('data_field').groups\n",
    "Catamarca_dic=Catamarca_df.groupby('data_field').groups"
   ]
  },
  {
   "cell_type": "code",
   "execution_count": 30,
   "metadata": {},
   "outputs": [
    {
     "data": {
      "text/plain": [
       "{'cumulative_cases_discarded': Int64Index([5, 149, 293, 437, 581, 725, 869, 1013, 1157, 1301, 1445, 1589,\n",
       "             1733, 1877],\n",
       "            dtype='int64'),\n",
       " 'cumulative_cases_under_study': Int64Index([4, 148, 292, 436, 580, 724, 868, 1012, 1156, 1300, 1444, 1588,\n",
       "             1732, 1876],\n",
       "            dtype='int64'),\n",
       " 'cumulative_confirmed_imported_cases': Int64Index([2, 146, 290, 434, 578, 722, 866, 1010, 1154, 1298, 1442, 1586,\n",
       "             1730, 1874],\n",
       "            dtype='int64'),\n",
       " 'cumulative_confirmed_local_cases': Int64Index([0, 144, 288, 432, 576, 720, 864, 1008, 1152, 1296, 1440, 1584,\n",
       "             1728, 1872],\n",
       "            dtype='int64'),\n",
       " 'cumulative_probable_imported_cases': Int64Index([3, 147, 291, 435, 579, 723, 867, 1011, 1155, 1299, 1443, 1587,\n",
       "             1731, 1875],\n",
       "            dtype='int64'),\n",
       " 'cumulative_probable_local_cases': Int64Index([1, 145, 289, 433, 577, 721, 865, 1009, 1153, 1297, 1441, 1585,\n",
       "             1729, 1873],\n",
       "            dtype='int64')}"
      ]
     },
     "execution_count": 30,
     "metadata": {},
     "output_type": "execute_result"
    }
   ],
   "source": [
    "Buenos_dic"
   ]
  },
  {
   "cell_type": "code",
   "execution_count": 31,
   "metadata": {},
   "outputs": [
    {
     "name": "stdout",
     "output_type": "stream",
     "text": [
      "['2016-03-19' '2016-03-26' '2016-04-02' '2016-04-09' '2016-04-16'\n",
      " '2016-04-29' '2016-05-07' '2016-05-14' '2016-05-22' '2016-05-30'\n",
      " '2016-06-06' '2016-06-13' '2016-06-18' '2016-06-26']\n",
      "['2016-03-19' '2016-03-26' '2016-04-02' '2016-04-09' '2016-04-16'\n",
      " '2016-04-29' '2016-05-07' '2016-05-14' '2016-05-22' '2016-05-30'\n",
      " '2016-06-06' '2016-06-13' '2016-06-18' '2016-06-26']\n",
      "['2016-03-19' '2016-03-26' '2016-04-02' '2016-04-09' '2016-04-16'\n",
      " '2016-04-29' '2016-05-07' '2016-05-14' '2016-05-22' '2016-05-30'\n",
      " '2016-06-06' '2016-06-13' '2016-06-18' '2016-06-26']\n"
     ]
    }
   ],
   "source": [
    "print(Buenos_df.report_date.unique())\n",
    "print(CABA_df.report_date.unique())\n",
    "print(Catamarca_df.report_date.unique())"
   ]
  },
  {
   "cell_type": "code",
   "execution_count": 32,
   "metadata": {},
   "outputs": [],
   "source": [
    "for i in Buenos_dic:\n",
    "    ll=[]\n",
    "    for j in Buenos_dic[i]:\n",
    "        ll.append(int(Buenos_df.loc[j][\"value\"]))\n",
    "    Buenos_dic[i]=ll\n",
    "    \n",
    "for i in CABA_dic:\n",
    "    ll=[]\n",
    "    for j in CABA_dic[i]:\n",
    "        ll.append(int(CABA_df.loc[j][\"value\"]))\n",
    "    CABA_dic[i]=ll\n",
    "    \n",
    "for i in Catamarca_dic:\n",
    "    ll=[]\n",
    "    for j in Catamarca_dic[i]:\n",
    "        ll.append(int(Catamarca_df.loc[j][\"value\"]))\n",
    "    Catamarca_dic[i]=ll"
   ]
  },
  {
   "cell_type": "code",
   "execution_count": 33,
   "metadata": {},
   "outputs": [
    {
     "data": {
      "image/png": "[encoded data removed]",
      "text/plain": [
       "<Figure size 1080x1080 with 6 Axes>"
      ]
     },
     "metadata": {},
     "output_type": "display_data"
    }
   ],
   "source": [
    "fig, axs = plt.subplots(3,2, figsize=(15,15), facecolor='w', edgecolor='k')\n",
    "fig.subplots_adjust(hspace=1,wspace=.2)\n",
    "axs = axs.ravel()\n",
    "xx=Buenos_df.report_date.unique()\n",
    "j=0\n",
    "for i in Buenos_dic:\n",
    "    axs[j].set_title(i)\n",
    "    axs[j].plot(xx,Buenos_dic[i],label='Argentina-Buenos_Aires')\n",
    "    axs[j].plot(xx,CABA_dic[i],label='Argentina-CABA')\n",
    "    axs[j].plot(xx,Catamarca_dic[i],label='Argentina-Catamarca')\n",
    "    axs[j].tick_params(labelrotation=90)\n",
    "    j+=1\n",
    "plt.legend(loc=(1.1,4.5))\n",
    "plt.show()"
   ]
  },
  {
   "cell_type": "markdown",
   "metadata": {},
   "source": [
    "# Q4. Build a program to predict the correct word for wrongly typed word"
   ]
  },
  {
   "cell_type": "code",
   "execution_count": 34,
   "metadata": {},
   "outputs": [],
   "source": [
    "from spellchecker import SpellChecker\n",
    "\n",
    "spell = SpellChecker()"
   ]
  },
  {
   "cell_type": "code",
   "execution_count": 35,
   "metadata": {},
   "outputs": [
    {
     "name": "stdout",
     "output_type": "stream",
     "text": [
      "speed\n"
     ]
    }
   ],
   "source": [
    "print(spell.correction('speld'))"
   ]
  },
  {
   "cell_type": "code",
   "execution_count": 36,
   "metadata": {},
   "outputs": [
    {
     "name": "stdout",
     "output_type": "stream",
     "text": [
      "what\n"
     ]
    }
   ],
   "source": [
    "print(spell.correction('whst'))"
   ]
  },
  {
   "cell_type": "code",
   "execution_count": 37,
   "metadata": {},
   "outputs": [
    {
     "name": "stdout",
     "output_type": "stream",
     "text": [
      "number\n"
     ]
    }
   ],
   "source": [
    "print(spell.correction('numbr'))"
   ]
  },
  {
   "cell_type": "code",
   "execution_count": 38,
   "metadata": {},
   "outputs": [
    {
     "name": "stdout",
     "output_type": "stream",
     "text": [
      "good\n"
     ]
    }
   ],
   "source": [
    "print(spell.correction('good'))"
   ]
  },
  {
   "cell_type": "code",
   "execution_count": 39,
   "metadata": {},
   "outputs": [
    {
     "name": "stdout",
     "output_type": "stream",
     "text": [
      "{'speed', 'spell', 'sped', 'spelt', 'spend'}\n"
     ]
    }
   ],
   "source": [
    "print(spell.candidates('speld'))"
   ]
  },
  {
   "cell_type": "code",
   "execution_count": 40,
   "metadata": {},
   "outputs": [
    {
     "name": "stdout",
     "output_type": "stream",
     "text": [
      "{'what', 'hst', 'whist', 'whs', 'whet', 'wast', 'west', 'whit'}\n"
     ]
    }
   ],
   "source": [
    "print(spell.candidates('whst'))"
   ]
  },
  {
   "cell_type": "code",
   "execution_count": 41,
   "metadata": {},
   "outputs": [
    {
     "name": "stdout",
     "output_type": "stream",
     "text": [
      "{'numb', 'numbs', 'number'}\n"
     ]
    }
   ],
   "source": [
    "print(spell.candidates('numbr'))"
   ]
  },
  {
   "cell_type": "code",
   "execution_count": 42,
   "metadata": {},
   "outputs": [
    {
     "name": "stdout",
     "output_type": "stream",
     "text": [
      "{'good'}\n"
     ]
    }
   ],
   "source": [
    "print(spell.candidates('good'))"
   ]
  },
  {
   "cell_type": "code",
   "execution_count": 43,
   "metadata": {},
   "outputs": [],
   "source": [
    "import re\n",
    "from collections import Counter\n",
    "\n",
    "def words(text):\n",
    "    return re.findall(r'\\w+', text.lower())\n",
    "\n",
    "WORDS = Counter(words(open('assign/big.txt').read()))\n",
    "\n",
    "def P(word, N=sum(WORDS.values())): \n",
    "    return WORDS[word] / N\n",
    "\n",
    "def edits1(word):\n",
    "    letters    = 'abcdefghijklmnopqrstuvwxyz'\n",
    "    splits     = [(word[:i], word[i:])    for i in range(len(word) + 1)]\n",
    "    deletes    = [L + R[1:]               for L, R in splits if R]\n",
    "    transposes = [L + R[1] + R[0] + R[2:] for L, R in splits if len(R)>1]\n",
    "    replaces   = [L + c + R[1:]           for L, R in splits if R for c in letters]\n",
    "    inserts    = [L + c + R               for L, R in splits for c in letters]\n",
    "    return set(deletes + transposes + replaces + inserts)\n",
    "\n",
    "def edits2(word): \n",
    "    return (e2 for e1 in edits1(word) for e2 in edits1(e1))\n",
    "\n",
    "def known(words): \n",
    "    return set(w for w in words if w in WORDS)\n",
    "\n",
    "def candidates(word): \n",
    "    return (known([word]) or known(edits1(word)) or known(edits2(word)) or [word])\n",
    "\n",
    "def correction(word): \n",
    "    return max(candidates(word), key=P)"
   ]
  },
  {
   "cell_type": "code",
   "execution_count": 44,
   "metadata": {},
   "outputs": [
    {
     "name": "stdout",
     "output_type": "stream",
     "text": [
      "spend\n"
     ]
    }
   ],
   "source": [
    "print(correction('speld'))"
   ]
  },
  {
   "cell_type": "code",
   "execution_count": 45,
   "metadata": {},
   "outputs": [
    {
     "name": "stdout",
     "output_type": "stream",
     "text": [
      "what\n"
     ]
    }
   ],
   "source": [
    "print(correction('whst'))"
   ]
  },
  {
   "cell_type": "code",
   "execution_count": 46,
   "metadata": {},
   "outputs": [
    {
     "name": "stdout",
     "output_type": "stream",
     "text": [
      "number\n"
     ]
    }
   ],
   "source": [
    "print(correction('numbr'))"
   ]
  },
  {
   "cell_type": "code",
   "execution_count": 47,
   "metadata": {},
   "outputs": [
    {
     "name": "stdout",
     "output_type": "stream",
     "text": [
      "good\n"
     ]
    }
   ],
   "source": [
    "print(correction('good'))"
   ]
  },
  {
   "cell_type": "code",
   "execution_count": 48,
   "metadata": {},
   "outputs": [
    {
     "name": "stdout",
     "output_type": "stream",
     "text": [
      "{'speed', 'spell', 'spend', 'sped'}\n"
     ]
    }
   ],
   "source": [
    "print(candidates('speld'))"
   ]
  },
  {
   "cell_type": "code",
   "execution_count": 49,
   "metadata": {},
   "outputs": [
    {
     "name": "stdout",
     "output_type": "stream",
     "text": [
      "{'what', 'whist', 'wast', 'west', 'whit'}\n"
     ]
    }
   ],
   "source": [
    "print(candidates('whst'))"
   ]
  },
  {
   "cell_type": "code",
   "execution_count": 50,
   "metadata": {},
   "outputs": [
    {
     "name": "stdout",
     "output_type": "stream",
     "text": [
      "{'numb', 'number'}\n"
     ]
    }
   ],
   "source": [
    "print(candidates('numbr'))"
   ]
  },
  {
   "cell_type": "code",
   "execution_count": 51,
   "metadata": {},
   "outputs": [
    {
     "name": "stdout",
     "output_type": "stream",
     "text": [
      "{'good'}\n"
     ]
    }
   ],
   "source": [
    "print(candidates('good'))"
   ]
  },
  {
   "cell_type": "code",
   "execution_count": null,
   "metadata": {},
   "outputs": [],
   "source": []
  }
 ],
 "metadata": {
  "kernelspec": {
   "display_name": "Python 3",
   "language": "python",
   "name": "python3"
  },
  "language_info": {
   "codemirror_mode": {
    "name": "ipython",
    "version": 3
   },
   "file_extension": ".py",
   "mimetype": "text/x-python",
   "name": "python",
   "nbconvert_exporter": "python",
   "pygments_lexer": "ipython3",
   "version": "3.6.5"
  }
 },
 "nbformat": 4,
 "nbformat_minor": 2
}
